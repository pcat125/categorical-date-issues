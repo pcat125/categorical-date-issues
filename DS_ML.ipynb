{
  "nbformat": 4,
  "nbformat_minor": 0,
  "metadata": {
    "colab": {
      "provenance": [],
      "authorship_tag": "ABX9TyOFK9Puxp/41D1Su3lxYyfw",
      "include_colab_link": true
    },
    "kernelspec": {
      "name": "python3",
      "display_name": "Python 3"
    },
    "language_info": {
      "name": "python"
    }
  },
  "cells": [
    {
      "cell_type": "markdown",
      "metadata": {
        "id": "view-in-github",
        "colab_type": "text"
      },
      "source": [
        "<a href=\"https://colab.research.google.com/github/pcat125/categorical-date-issues/blob/main/DS_ML.ipynb\" target=\"_parent\"><img src=\"https://colab.research.google.com/assets/colab-badge.svg\" alt=\"Open In Colab\"/></a>"
      ]
    },
    {
      "cell_type": "code",
      "execution_count": null,
      "metadata": {
        "id": "JGgaeYfp5oLO"
      },
      "outputs": [],
      "source": []
    },
    {
      "cell_type": "markdown",
      "source": [
        "Ingest\n"
      ],
      "metadata": {
        "id": "GaBG-26e5yWL"
      }
    },
    {
      "cell_type": "code",
      "source": [],
      "metadata": {
        "id": "7bPijHlg50_b"
      },
      "execution_count": null,
      "outputs": []
    },
    {
      "cell_type": "markdown",
      "source": [
        "\n",
        "##modeling\n",
        "\n",
        "```\n",
        "`# This is formatted as code`\n",
        "```\n",
        "\n"
      ],
      "metadata": {
        "id": "dw17OnzO51ix"
      }
    },
    {
      "cell_type": "markdown",
      "source": [
        "###classific ALG 1"
      ],
      "metadata": {
        "id": "QMBLRESR6N7o"
      }
    },
    {
      "cell_type": "code",
      "source": [
        "##conclusion"
      ],
      "metadata": {
        "id": "c_Mpsldn6Ask"
      },
      "execution_count": null,
      "outputs": []
    },
    {
      "cell_type": "markdown",
      "source": [
        "###CLASSIFICATION ALG 2"
      ],
      "metadata": {
        "id": "yv_zQUMV6USG"
      }
    },
    {
      "cell_type": "markdown",
      "source": [],
      "metadata": {
        "id": "zTaDTnxW6Ecr"
      }
    }
  ]
}